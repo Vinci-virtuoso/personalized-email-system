{
 "cells": [
  {
   "cell_type": "code",
   "execution_count": 302,
   "metadata": {},
   "outputs": [],
   "source": [
    "from firecrawl import FirecrawlApp\n",
    "from pydantic import BaseModel, Field\n",
    "from typing import List, TypedDict , Optional, Type\n",
    "from dotenv import load_dotenv\n",
    "from langchain_openai import ChatOpenAI\n",
    "from langchain_community.tools.tavily_search import TavilySearchResults\n",
    "from langchain_core.callbacks import (\n",
    "    AsyncCallbackManagerForToolRun,\n",
    "    CallbackManagerForToolRun,\n",
    ")\n",
    "import os\n",
    "import requests\n",
    "from langchain_core.tools import BaseTool\n",
    "from langgraph.graph import START,END, StateGraph\n",
    "from langchain_core.prompts import ChatPromptTemplate"
   ]
  },
  {
   "cell_type": "code",
   "execution_count": 121,
   "metadata": {},
   "outputs": [
    {
     "data": {
      "text/plain": [
       "True"
      ]
     },
     "execution_count": 121,
     "metadata": {},
     "output_type": "execute_result"
    }
   ],
   "source": [
    "load_dotenv()\n"
   ]
  },
  {
   "cell_type": "code",
   "execution_count": 272,
   "metadata": {},
   "outputs": [],
   "source": [
    "llm=ChatOpenAI() "
   ]
  },
  {
   "cell_type": "code",
   "execution_count": 273,
   "metadata": {},
   "outputs": [],
   "source": [
    "class State(TypedDict):\n",
    "    web_search: List[dict]\n",
    "    structured_response: List[str]\n",
    "    emails: List[str]\n",
    "    phonenumbers: List[str]\n",
    "    create_record: str\n",
    "    email_drafts: str\n",
    "    email_drafts_markdown: str\n",
    "    "
   ]
  },
  {
   "cell_type": "code",
   "execution_count": 274,
   "metadata": {},
   "outputs": [],
   "source": [
    "def search(state: State) -> State:\n",
    "    tavily_tool = TavilySearchResults(max_results=1)\n",
    "    search_query = '\"real estate company\" site:.com\"'\n",
    "    state[\"web_search\"] = tavily_tool.invoke(search_query)\n",
    "    return state"
   ]
  },
  {
   "cell_type": "code",
   "execution_count": 275,
   "metadata": {},
   "outputs": [],
   "source": [
    "class SearchResponse(BaseModel):\n",
    "    url: List[str]\n",
    "\n",
    "def structured_response(state: State) -> State:\n",
    "    web_search = state[\"web_search\"]\n",
    "    urls = [result['url'] for result in web_search]\n",
    "\n",
    "\n",
    "    prompt = \"\"\"\n",
    "    You are a senior search assistant, you have access to search some url dictionary from a search assistant. Your role is to extract all urls from the {web_search}. Return them as a list.\n",
    "    \"\"\"\n",
    "\n",
    "    chat_prompt = ChatPromptTemplate.from_messages(\n",
    "        [\n",
    "            (\"system\", prompt),\n",
    "            (\"human\", \"{web_search}\"),\n",
    "        ]\n",
    "    )\n",
    "\n",
    "    structure = llm.with_structured_output(SearchResponse)\n",
    "\n",
    "    structured = chat_prompt | structure \n",
    "\n",
    "    structured_response = structured.invoke({\"web_search\": urls})\n",
    "\n",
    "    return {\"structured_response\":structured_response.url}\n",
    "\n"
   ]
  },
  {
   "cell_type": "code",
   "execution_count": null,
   "metadata": {},
   "outputs": [],
   "source": [
    "def get_contact(state:State):\n",
    "    structured_response=state[\"structured_response\"]   \n",
    "    class ContactInfo(BaseModel):\n",
    "        phonenumber: str\n",
    "        email: str\n",
    "\n",
    "    class WebsitecontactInfo(BaseModel):\n",
    "        info: List[ContactInfo]\n",
    "\n",
    "    class ContactExtractorInput(BaseModel):\n",
    "        url: str = Field(..., description=\"Website URL to extract contact information from\")\n",
    "\n",
    "    class CustomContactExtractorTool(BaseTool):\n",
    "        name: str = \"website_contact_extractor\"\n",
    "        description: str = \"Extracts company contact information from website URLs including phone numbers and emails\"\n",
    "        args_schema: Type[BaseModel] = ContactExtractorInput\n",
    "\n",
    "        def _run(\n",
    "            self, \n",
    "            url: str,\n",
    "            run_manager: Optional[CallbackManagerForToolRun] = None\n",
    "        ) -> WebsitecontactInfo:\n",
    "            \"\"\"Main execution method for contact extraction\"\"\"\n",
    "            try:\n",
    "                firecrawl_api_key = os.getenv('FIRECRAWL_API_KEY')\n",
    "                if not firecrawl_api_key:\n",
    "                    raise ValueError(\"FIRECRAWL_API_KEY environment variable not found\")\n",
    "                    \n",
    "                app = FirecrawlApp(api_key=firecrawl_api_key)\n",
    "                response = app.extract([url], {\n",
    "                    'prompt': '''Extract all company contact information including:\n",
    "                                - Phone number\n",
    "                                - Email address\n",
    "                                Return structured JSON data''',\n",
    "                    'schema': {\n",
    "                        'type': 'object',\n",
    "                        'properties': {\n",
    "                            'phonenumber': {'type': 'string'},\n",
    "                            'email': {'type': 'string'}\n",
    "                        }\n",
    "                    }\n",
    "                })\n",
    "                \n",
    "                data = response['data']\n",
    "                contact_info = ContactInfo(\n",
    "                    phonenumber=data.get('phonenumber', ''),\n",
    "                    email=data.get('email', '')\n",
    "                )\n",
    "                website_info = WebsitecontactInfo(info=[contact_info])\n",
    "                return website_info\n",
    "                \n",
    "            except Exception as e:\n",
    "                return WebsitecontactInfo(info=[])\n",
    "\n",
    "        async def _arun(\n",
    "            self, \n",
    "            url: str,\n",
    "            run_manager: Optional[AsyncCallbackManagerForToolRun] = None\n",
    "        ) -> WebsitecontactInfo:\n",
    "            \"\"\"Async version using same sync implementation\"\"\"\n",
    "            return self._run(url, run_manager)\n",
    "\n",
    "    tool = CustomContactExtractorTool() \n",
    "    phonenumbers = []\n",
    "    emails = []\n",
    "\n",
    "    for url in structured_response:\n",
    "        contact = tool.invoke({\"url\": url})  \n",
    "\n",
    "        for info in contact.info[:5]: \n",
    "            phonenumbers.append(info.phonenumber) \n",
    "            emails.append(info.email)  \n",
    "\n",
    "    state[\"phonenumbers\"] = phonenumbers  \n",
    "    state[\"emails\"] = emails  \n",
    "    return state\n"
   ]
  },
  {
   "cell_type": "code",
   "execution_count": 303,
   "metadata": {},
   "outputs": [],
   "source": [
    "def record(state: State):\n",
    "    emails = state[\"emails\"]\n",
    "    phonenumbers = state[\"phonenumbers\"]\n",
    "    class AirtableInput(BaseModel):\n",
    "        emails: List[str] = Field(..., description=\"List of email addresses\")\n",
    "        phonenumbers: List[str] = Field(..., description=\"List of phone numbers\")\n",
    "\n",
    "    class AirtableTool(BaseTool):\n",
    "        name: str = \"airtable_recorder\"\n",
    "        description: str = \"Adds contact information to Airtable database\"\n",
    "        args_schema: Type[BaseModel] = AirtableInput\n",
    "\n",
    "        def _run(\n",
    "            self, \n",
    "            emails: List[str],\n",
    "            phonenumbers: List[str],\n",
    "            run_manager: Optional[CallbackManagerForToolRun] = None\n",
    "        ) -> str:\n",
    "            \"\"\"Main execution method for adding records to Airtable\"\"\"\n",
    "            emails_subset = emails[:5]\n",
    "            phonenumbers_subset = phonenumbers[:5]\n",
    "\n",
    "            records = []\n",
    "            for email, phone in zip(emails_subset, phonenumbers_subset):\n",
    "                records.append({\n",
    "                    \"fields\": {\n",
    "                        \"Email Address\": email,\n",
    "                        \"Phone Number\": phone\n",
    "                    }\n",
    "                })\n",
    "\n",
    "            url = \"https://api.airtable.com/v0/appTbNJ0F0exvFSFw/Email%20Campaign\"\n",
    "            api_token = os.getenv('AIRTABLE_API_KEY')\n",
    "            if not api_token:\n",
    "                raise ValueError(\"AIRTABLE_API_KEY environment variable not found\")\n",
    "            \n",
    "            headers = {\n",
    "                \"Authorization\": f\"Bearer {api_token}\",\n",
    "                \"Content-Type\": \"application/json\"\n",
    "            }\n",
    "        \n",
    "            data = {\"records\": records}\n",
    "        \n",
    "            try:\n",
    "                response = requests.post(url, headers=headers, json=data)\n",
    "                response.raise_for_status()\n",
    "                return \"Airtable record created successfully\"\n",
    "            except requests.exceptions.HTTPError as err:\n",
    "                return f\"Error creating Airtable record: {str(err)}\"\n",
    "\n",
    "        async def _arun(\n",
    "            self, \n",
    "            emails: List[str],\n",
    "            phonenumbers: List[str],\n",
    "            run_manager: Optional[AsyncCallbackManagerForToolRun] = None\n",
    "        ) -> str:\n",
    "            \"\"\"Async version using same sync implementation\"\"\"\n",
    "            return self._run(emails, phonenumbers, run_manager)\n",
    "        \n",
    "    tool = AirtableTool()\n",
    "    create_record = tool.invoke({\"emails\": emails, \"phonenumbers\": phonenumbers})\n",
    "    return {\"create_record\": create_record}"
   ]
  },
  {
   "cell_type": "code",
   "execution_count": 295,
   "metadata": {},
   "outputs": [],
   "source": [
    "\n",
    "class MessageDraft(BaseModel):\n",
    "    subject: str = Field(..., description=\"Subject of the email\")\n",
    "    body: str = Field(..., description=\"Body content of the email\")\n",
    "\n",
    "def create_email_drafts(state: State):\n",
    "    emails = state[\"emails\"]\n",
    "    drafts = []\n",
    "    \n",
    "    structured_output = llm.with_structured_output(MessageDraft)\n",
    "\n",
    "    for email in emails:\n",
    "        structured_response = structured_output.invoke(\n",
    "            f\"You are a top-performing tech sales executive for Cribblr, an AI agency specializing in voice agents for real estate. Your tasks: 1. Craft a highly personalized email that demonstrates a deep understanding of the recipient's business. 2. Highlight how Cribblr's voice agents can solve specific real estate challenges. 3. Maintain a professional yet conversational tone. 4. Follow email best practices (clear structure, strong CTAs). 5. Use company research to make relevant references. You have access to the email: {email}\"\n",
    "        )\n",
    "        drafts.append({\n",
    "            \"to_email\": email,\n",
    "            \"draft\": structured_response\n",
    "        })\n",
    "\n",
    "    state[\"email_drafts\"] = drafts\n",
    "\n",
    "    # Generate a Markdown formatted string for display\n",
    "    formatted_emails = \"\\n\\n\".join(\n",
    "        f\"To: {email.get('to_email', 'Not provided')}\\nSubject: {email['draft'].subject}\\n\\n{email['draft'].body}\"\n",
    "        for email in drafts\n",
    "    )\n",
    "    state[\"email_drafts_markdown\"] = formatted_emails\n",
    "\n",
    "    return state\n"
   ]
  },
  {
   "cell_type": "code",
   "execution_count": 296,
   "metadata": {},
   "outputs": [],
   "source": [
    "workflow = StateGraph(State)\n",
    "\n",
    "workflow.add_node(\"tavily_tool\", search)\n",
    "workflow.add_node(\"structured\", structured_response)\n",
    "workflow.add_node(\"get_contact\", get_contact)\n",
    "workflow.add_node(\"record\", record)\n",
    "workflow.add_node(\"create_email_drafts\", create_email_drafts)\n",
    "\n",
    "workflow.add_edge(\"tavily_tool\", \"structured\")\n",
    "workflow.add_edge(\"structured\", \"get_contact\")\n",
    "workflow.add_edge(\"get_contact\", \"record\")\n",
    "workflow.add_edge(\"record\", \"create_email_drafts\")\n",
    "workflow.add_edge(\"create_email_drafts\", END)\n",
    "workflow.set_entry_point(\"tavily_tool\")\n",
    "graph = workflow.compile()"
   ]
  },
  {
   "cell_type": "code",
   "execution_count": 297,
   "metadata": {},
   "outputs": [
    {
     "data": {
      "image/png": "[encoded data removed]",
      "text/plain": [
       "<IPython.core.display.Image object>"
      ]
     },
     "metadata": {},
     "output_type": "display_data"
    }
   ],
   "source": [
    "from IPython.display import display, Image\n",
    "\n",
    "display(Image(graph.get_graph().draw_mermaid_png()))"
   ]
  },
  {
   "cell_type": "code",
   "execution_count": 304,
   "metadata": {},
   "outputs": [],
   "source": [
    "result = graph.invoke({\"web_search\": \"real estate company in US\",})\n"
   ]
  },
  {
   "cell_type": "code",
   "execution_count": 305,
   "metadata": {},
   "outputs": [
    {
     "data": {
      "text/markdown": [
       "To: \n",
       "Subject: Transforming Your Real Estate Business with Cribblr's Voice Agents\n",
       "\n",
       "Dear [Recipient's Name],\n",
       "\n",
       "I hope this message finds you well. I recently came across [Recipient's Company Name] and was impressed by the innovative approach you are taking in the real estate industry. It's evident that your commitment to leveraging technology for growth aligns perfectly with Cribblr's mission.\n",
       "\n",
       "At Cribblr, we understand the challenges faced by real estate businesses like yours. From streamlining property searches to enhancing customer engagement, our AI-powered voice agents are designed to revolutionize the way you interact with clients. Imagine providing personalized property recommendations to potential buyers or scheduling property viewings effortlessly - all through a seamless voice interface.\n",
       "\n",
       "Our team at Cribblr is dedicated to ensuring that your real estate business stays ahead of the curve. By integrating our voice agents into your operations, you can automate routine tasks, improve response times, and deliver exceptional customer experiences.\n",
       "\n",
       "I would love to explore how Cribblr's innovative solutions can specifically address the unique challenges faced by [Recipient's Company Name]. Would you be available for a brief discussion to see how we can tailor our voice agents to meet your business objectives?\n",
       "\n",
       "Looking forward to the opportunity to collaborate and drive success for your real estate business.\n",
       "\n",
       "Warm regards,\n",
       "[Your Name]\n",
       "Top-Performing Tech Sales Executive\n",
       "Cribblr - Your AI Partner in Real Estate"
      ],
      "text/plain": [
       "<IPython.core.display.Markdown object>"
      ]
     },
     "execution_count": 305,
     "metadata": {},
     "output_type": "execute_result"
    }
   ],
   "source": [
    "from IPython.display import Markdown\n",
    "Markdown(result[\"email_drafts_markdown\"])"
   ]
  }
 ],
 "metadata": {
  "kernelspec": {
   "display_name": "app-6lD3KzTT-py3.12",
   "language": "python",
   "name": "python3"
  },
  "language_info": {
   "codemirror_mode": {
    "name": "ipython",
    "version": 3
   },
   "file_extension": ".py",
   "mimetype": "text/x-python",
   "name": "python",
   "nbconvert_exporter": "python",
   "pygments_lexer": "ipython3",
   "version": "3.12.6"
  }
 },
 "nbformat": 4,
 "nbformat_minor": 2
}
